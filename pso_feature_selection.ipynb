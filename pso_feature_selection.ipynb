{
 "cells": [
  {
   "cell_type": "markdown",
   "metadata": {},
   "source": [
    "### Feature Selection Using Particle Swarm Optimization (PSO) Algorithm"
   ]
  },
  {
   "cell_type": "markdown",
   "metadata": {},
   "source": [
    "##### Ignore Convergence Warning"
   ]
  },
  {
   "cell_type": "code",
   "execution_count": 1,
   "metadata": {},
   "outputs": [],
   "source": [
    "import warnings\n",
    "from sklearn.exceptions import ConvergenceWarning\n",
    "warnings.simplefilter( \"ignore\", category=ConvergenceWarning)"
   ]
  },
  {
   "cell_type": "markdown",
   "metadata": {},
   "source": [
    "##### Import Statements"
   ]
  },
  {
   "cell_type": "code",
   "execution_count": 2,
   "metadata": {},
   "outputs": [],
   "source": [
    "import numpy as np\n",
    "import pandas as pd\n",
    "from sklearn.datasets import load_breast_cancer\n",
    "from sklearn.linear_model import LogisticRegression\n",
    "from sklearn.model_selection import train_test_split\n",
    "from sklearn.metrics import accuracy_score, log_loss"
   ]
  },
  {
   "cell_type": "markdown",
   "metadata": {},
   "source": [
    "##### Load Dataset"
   ]
  },
  {
   "cell_type": "code",
   "execution_count": 3,
   "metadata": {},
   "outputs": [
    {
     "name": "stdout",
     "output_type": "stream",
     "text": [
      "   mean radius  mean texture  mean perimeter  mean area  mean smoothness  \\\n",
      "0        17.99         10.38          122.80     1001.0          0.11840   \n",
      "1        20.57         17.77          132.90     1326.0          0.08474   \n",
      "2        19.69         21.25          130.00     1203.0          0.10960   \n",
      "3        11.42         20.38           77.58      386.1          0.14250   \n",
      "4        20.29         14.34          135.10     1297.0          0.10030   \n",
      "\n",
      "   mean compactness  mean concavity  mean concave points  mean symmetry  \\\n",
      "0           0.27760          0.3001              0.14710         0.2419   \n",
      "1           0.07864          0.0869              0.07017         0.1812   \n",
      "2           0.15990          0.1974              0.12790         0.2069   \n",
      "3           0.28390          0.2414              0.10520         0.2597   \n",
      "4           0.13280          0.1980              0.10430         0.1809   \n",
      "\n",
      "   mean fractal dimension  ...  worst texture  worst perimeter  worst area  \\\n",
      "0                 0.07871  ...          17.33           184.60      2019.0   \n",
      "1                 0.05667  ...          23.41           158.80      1956.0   \n",
      "2                 0.05999  ...          25.53           152.50      1709.0   \n",
      "3                 0.09744  ...          26.50            98.87       567.7   \n",
      "4                 0.05883  ...          16.67           152.20      1575.0   \n",
      "\n",
      "   worst smoothness  worst compactness  worst concavity  worst concave points  \\\n",
      "0            0.1622             0.6656           0.7119                0.2654   \n",
      "1            0.1238             0.1866           0.2416                0.1860   \n",
      "2            0.1444             0.4245           0.4504                0.2430   \n",
      "3            0.2098             0.8663           0.6869                0.2575   \n",
      "4            0.1374             0.2050           0.4000                0.1625   \n",
      "\n",
      "   worst symmetry  worst fractal dimension  target  \n",
      "0          0.4601                  0.11890       0  \n",
      "1          0.2750                  0.08902       0  \n",
      "2          0.3613                  0.08758       0  \n",
      "3          0.6638                  0.17300       0  \n",
      "4          0.2364                  0.07678       0  \n",
      "\n",
      "[5 rows x 31 columns]\n"
     ]
    }
   ],
   "source": [
    "cancer_data = load_breast_cancer()\n",
    "\n",
    "df = pd.DataFrame( cancer_data[ \"data\"], columns=cancer_data[ \"feature_names\"])\n",
    "df[ \"target\"] = cancer_data[ \"target\"]\n",
    "\n",
    "print( df.head())"
   ]
  },
  {
   "cell_type": "markdown",
   "metadata": {},
   "source": [
    "##### Construct Train and Test Set"
   ]
  },
  {
   "cell_type": "code",
   "execution_count": 4,
   "metadata": {},
   "outputs": [
    {
     "name": "stdout",
     "output_type": "stream",
     "text": [
      "Number of Samples in Train Set: 426\n",
      "Number of Samples in Test Set: 143\n"
     ]
    }
   ],
   "source": [
    "X = df[ cancer_data[ \"feature_names\"]].values\n",
    "y = df[ \"target\"].values\n",
    "\n",
    "X_train, X_test, y_train, y_test = train_test_split( X, y)\n",
    "\n",
    "print( f\"Number of Samples in Train Set: { len( y_train)}\")\n",
    "print( f\"Number of Samples in Test Set: { len( y_test)}\")"
   ]
  },
  {
   "cell_type": "markdown",
   "metadata": {},
   "source": [
    "##### Create The Model, Train it with All Features and Evaluate it"
   ]
  },
  {
   "cell_type": "code",
   "execution_count": 5,
   "metadata": {},
   "outputs": [
    {
     "name": "stdout",
     "output_type": "stream",
     "text": [
      "Loss: 2.7725887222397807\n",
      "Accuracy: 0.9230769230769231\n"
     ]
    }
   ],
   "source": [
    "model = LogisticRegression()\n",
    "\n",
    "model.fit( X_train, y_train)\n",
    "\n",
    "y_pred = model.predict( X_test)\n",
    "\n",
    "test_accuracy = accuracy_score( y_test, y_pred)\n",
    "test_loss = log_loss( y_test, y_pred)\n",
    "\n",
    "print( f\"Loss: { test_loss}\")\n",
    "print( f\"Accuracy: { test_accuracy}\")"
   ]
  },
  {
   "cell_type": "markdown",
   "metadata": {},
   "source": [
    "##### Fitness Function"
   ]
  },
  {
   "cell_type": "code",
   "execution_count": 6,
   "metadata": {},
   "outputs": [],
   "source": [
    "def fitness( X_train, y_train, X_test, y_test, p):\n",
    "\tfeatures = np.nonzero( p)[ 0]\n",
    "\n",
    "\tselected_X_train = X_train[ :, features]\n",
    "\tselected_X_test = X_test[ :, features]\n",
    "\n",
    "\tmodel = LogisticRegression()\n",
    "\n",
    "\tmodel.fit( selected_X_train, y_train)\n",
    "\t\n",
    "\ty_pred = model.predict( selected_X_test)\n",
    "\n",
    "\taccuracy = accuracy_score( y_test, y_pred)\n",
    "\tloss = log_loss( y_test, y_pred)\n",
    "\n",
    "\treturn loss, accuracy"
   ]
  },
  {
   "cell_type": "markdown",
   "metadata": {},
   "source": [
    "##### PSO Function"
   ]
  },
  {
   "cell_type": "code",
   "execution_count": 7,
   "metadata": {},
   "outputs": [],
   "source": [
    "def pso( X_train, y_train, X_test, y_test, w=0.7, c1=1, c2=1, n_iter=5):\n",
    "\t\n",
    "\t# dimensions\n",
    "\t_, d = X_train.shape\n",
    "\n",
    "\t# number of particles\n",
    "\tpn = d\n",
    "\n",
    "\t# maximum range of search space for each dimension\n",
    "\tdomain = 1\n",
    "\n",
    "\t# position of particles. initial seed within [ 0, domain]\n",
    "\tp = domain * np.random.rand( pn, d)\n",
    "\n",
    "\t# make postions binary\n",
    "\tp[ p < 0.5] = 0\n",
    "\tp[ p >= 0.5] = 1\n",
    "\t\n",
    "\t# initial velocity\n",
    "\tv = np.zeros( ( pn, d))\n",
    "\n",
    "\t# best position of particle initiated with p ( initial position)\n",
    "\tpbest = np.copy( p)\n",
    "\n",
    "\t# value of fit function for each particle\n",
    "\tf = np.array( [ fitness( X_train, y_train, X_test, y_test, particle)[ 0] for particle in p])\n",
    "\n",
    "\t# best value of fit function for each particle\n",
    "\t# initiated with f ( initial value of fit function for each particle)\n",
    "\tfpbest = np.copy( f)\n",
    "\n",
    "\t# best value of fit function among all particles\n",
    "\t# and its corresponding position\n",
    "\tfgbest, gbest = f.min(), p[ f.argmin()]\n",
    "\n",
    "\t# variable for recording history of fgbest (best value of fit function)\n",
    "\thistory = np.zeros( n_iter)\n",
    "\n",
    "\t# iterate n_iter time\n",
    "\tfor i in range( n_iter):\n",
    "\n",
    "\t\t# recording best value of fit function\n",
    "\t\thistory[ i] = fgbest\n",
    "\n",
    "\t\t# generate two matrices of random numbers in range [ -1, 1] and shape of ( pn, d) ( for each particle and for each dimension)\n",
    "\t\tr1 = np.random.rand( pn, d)\n",
    "\t\tr2 = np.random.rand( pn, d)\n",
    "\n",
    "\t\t# calculate velocity of particles in each dimenstion\n",
    "\t\tv = ( w * v) + ( r1 * c1 * ( pbest - p)) + ( r2 * c2 * ( gbest - p))\n",
    "\n",
    "\t\t# update position of particle\n",
    "\t\tp = p + v\n",
    "\n",
    "\t\t# keep values in range and make it binary\n",
    "\t\tp[ p < 0.5] = 0\n",
    "\t\tp[ p >= 0.5] = 1\n",
    "\n",
    "\t\tf = np.array( [ fitness( X_train, y_train, X_test, y_test, particle)[ 0] for particle in p])\n",
    "\n",
    "\t\t# find indices of particles with better value of fit function than their previous value\n",
    "\t\tindices = np.nonzero( f < fpbest)\n",
    "\n",
    "\t\t# update value of fit function for particles that found a better value\n",
    "\t\tfpbest[ indices] = f[ indices]\n",
    "\n",
    "\t\t# update position of particles that found a better value\n",
    "\t\tpbest[ indices] = p[ indices]\n",
    "\t\t\n",
    "\t\t# if f.min() < fgbest:\n",
    "\t\t# update best value and its corresponding position\n",
    "\t\tfgbest, gbest = f.min(), p[ f.argmin()]\n",
    "\n",
    "\t# acquire loss and accuracy from gbest\n",
    "\tloss, accuracy = fitness( X_train, y_train, X_test, y_test, gbest)\n",
    "\n",
    "\treturn history, gbest, loss, accuracy\n"
   ]
  },
  {
   "cell_type": "markdown",
   "metadata": {},
   "source": [
    "##### Driver"
   ]
  },
  {
   "cell_type": "code",
   "execution_count": 8,
   "metadata": {},
   "outputs": [
    {
     "name": "stdout",
     "output_type": "stream",
     "text": [
      "Loss: 1.2602676010180827\n",
      "Accuracy: 0.965034965034965\n",
      "Number of Selected Features: 16 out of 30\n"
     ]
    }
   ],
   "source": [
    "_, gbest, loss, accuracy = pso( X_train, y_train, X_test, y_test)\n",
    "\n",
    "print( f\"Loss: { loss}\")\n",
    "print( f\"Accuracy: { accuracy}\")\n",
    "print( f\"Number of Selected Features: { np.count_nonzero( gbest)} out of { len( gbest)}\")"
   ]
  }
 ],
 "metadata": {
  "kernelspec": {
   "display_name": "Python 3.8.6 64-bit",
   "language": "python",
   "name": "python3"
  },
  "language_info": {
   "codemirror_mode": {
    "name": "ipython",
    "version": 3
   },
   "file_extension": ".py",
   "mimetype": "text/x-python",
   "name": "python",
   "nbconvert_exporter": "python",
   "pygments_lexer": "ipython3",
   "version": "3.8.6"
  },
  "orig_nbformat": 4,
  "vscode": {
   "interpreter": {
    "hash": "cccb80c535c03ea85c927d83b1212f93133456f0701648b808e4e1f70d2d0413"
   }
  }
 },
 "nbformat": 4,
 "nbformat_minor": 2
}
